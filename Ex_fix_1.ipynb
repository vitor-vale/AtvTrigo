{
  "nbformat": 4,
  "nbformat_minor": 0,
  "metadata": {
    "colab": {
      "provenance": [],
      "authorship_tag": "ABX9TyPASa18JGBhsr6DFBIcNvYU",
      "include_colab_link": true
    },
    "kernelspec": {
      "name": "python3",
      "display_name": "Python 3"
    },
    "language_info": {
      "name": "python"
    }
  },
  "cells": [
    {
      "cell_type": "markdown",
      "metadata": {
        "id": "view-in-github",
        "colab_type": "text"
      },
      "source": [
        "<a href=\"https://colab.research.google.com/github/vitor-vale/FFIS/blob/main/Ex_fix_1.ipynb\" target=\"_parent\"><img src=\"https://colab.research.google.com/assets/colab-badge.svg\" alt=\"Open In Colab\"/></a>"
      ]
    },
    {
      "cell_type": "code",
      "execution_count": null,
      "metadata": {
        "id": "w3HsTn8GwKSi",
        "colab": {
          "base_uri": "https://localhost:8080/"
        },
        "outputId": "0819cefc-c5e5-4508-8f5c-caa21453bf72"
      },
      "outputs": [
        {
          "output_type": "stream",
          "name": "stdout",
          "text": [
            "passamos aqui!!!\n"
          ]
        }
      ],
      "source": [
        "import math\n",
        "%matplotlib inline\n",
        "import matplotlib.pyplot as plt #apenas para os gráficos\n",
        "import numpy as np\n",
        "print(\"passamos aqui!!!\")"
      ]
    },
    {
      "cell_type": "code",
      "source": [
        "#Ex 1, letra A): Sendo o cateto adjacente 50m e o cateto oposto 200m, temos que:\n",
        "h = 0\n",
        "ang = 0\n",
        "hip = math.sqrt(50**2 + 200**2)\n",
        "print(\"Valor Hipotenusa = \", round(hip, 4))\n",
        "#Agora para achar o ângulo:\n",
        "ang = 200/hip\n",
        "ang = math.sin(ang)\n",
        "ang = math.degrees(200/50)\n",
        "print(\"O valor do ângulo em graus é: \", round(ang, 4))"
      ],
      "metadata": {
        "id": "Ca9v1X0eecv5"
      },
      "execution_count": null,
      "outputs": []
    },
    {
      "cell_type": "code",
      "source": [
        "#Ex 1, letra B): Angulo para cada altura\n",
        "altura = 0\n",
        "angulo = 0\n",
        "\n",
        "altura = input(\"Insira Altura: \")\n",
        "altura = int(altura)\n",
        "angulo = altura/50\n",
        "angulo = math.atan(angulo)\n",
        "angulo = math.degrees(angulo)\n",
        "print(\"Angulo para altura desejada: \", angulo)\n",
        "\n",
        "#Ex C) Plotar gráfico:\n",
        "x = [0, 50, 0]\n",
        "y = [0, 0, altura]\n",
        "\n",
        "plt.plot(x, y)\n",
        "plt.xlabel('Base')\n",
        "plt.ylabel('Altura')\n",
        "plt.title('Triângulo retângulo')\n",
        "plt.show()"
      ],
      "metadata": {
        "id": "Qj9tRdSymDs2"
      },
      "execution_count": null,
      "outputs": []
    },
    {
      "cell_type": "code",
      "source": [
        "#Exercício 2:\n",
        "#Alternariva A)\n",
        "#Onde a inclinação é dada em porcentagem, ou seja, 0,25 para a inclinação mínima de 25%.\n",
        "#altura = comprimento * inclinação\n",
        "altura = 3 * 0.25\n",
        "print(\"Altura para comprimento de 3m: \", altura)\n",
        "\n",
        "print('------------------------------------------------------')\n",
        "\n",
        "#Alternativa B)\n",
        "#altura = comprimento * inclinação\n",
        "comprimento_Inserido = float(input(\"Comprimento a altura desejado: \"))\n",
        "Altura_desejada = comprimento_Inserido*0.25\n",
        "print(\"A altura ideal para o telhado de comprimento \", comprimento_Inserido, \" é: \", Altura_desejada)\n",
        "\n",
        "print('------------------------------------------------------')\n",
        "\n",
        "#Alternativa C)\n",
        "#altura = comprimento * inclinação, primeiro para comprimento 2\n",
        "altura = 2 * 0.25\n",
        "print(\"Altura para comprimento de 2m: \", altura)\n",
        "#sendo cateto oposto=altura e comprimento=Hipotenusa\n",
        "ang = ang = math.degrees(altura/2)\n",
        "print(\"Grau do angulo do telhado: \", ang)\n",
        "base = math.sqrt(4 - altura**2)\n",
        "x = [0, base, 0]\n",
        "y = [0, 0, altura]\n",
        "\n",
        "plt.plot(x, y)\n",
        "plt.xlabel('Base')\n",
        "plt.ylabel('Altura')\n",
        "plt.title('Triângulo retângulo')\n",
        "plt.show()\n",
        "\n",
        "print('------------------------------------------------------')\n",
        "\n",
        "#altura = comprimento * inclinação, primeiro para comprimento 7\n",
        "altura = 7 * 0.25\n",
        "print(\"Altura para comprimento de 7m: \", altura)\n",
        "#sendo cateto oposto=altura e comprimento=Hipotenusa\n",
        "ang = ang = math.degrees(altura/7)\n",
        "print(\"Grau do angulo do telhado: \", ang)\n",
        "base = math.sqrt(49 - altura**2)\n",
        "x = [0, base, 0]\n",
        "y = [0, 0, altura]\n",
        "\n",
        "plt.plot(x, y)\n",
        "plt.xlabel('Base')\n",
        "plt.ylabel('Altura')\n",
        "plt.title('Triângulo retângulo')\n",
        "plt.show()"
      ],
      "metadata": {
        "id": "A8pl_d8FDm45"
      },
      "execution_count": null,
      "outputs": []
    },
    {
      "cell_type": "code",
      "source": [
        "#Exercício 3:\n",
        "\n",
        "angulo_graus = 0\n",
        "angulo_graus = int(input(\"Insira um ângulo em graus: \"))\n",
        "\n",
        "angulo_radianos = math.radians(angulo_graus)\n",
        "\n",
        "\n",
        "seno = math.sin(angulo_radianos)\n",
        "cosseno = math.cos(angulo_radianos)\n",
        "tangente = math.tan(angulo_radianos)\n",
        "\n",
        "fig, ax = plt.subplots()\n",
        "\n",
        "\n",
        "circulo = plt.Circle((0, 0), 1, fill=False)\n",
        "ax.add_artist(circulo)\n",
        "\n",
        "\n",
        "vetor_angulo = plt.Line2D([0, math.cos(angulo_radianos)], [0, math.sin(angulo_radianos)], color='r', linestyle='--')\n",
        "ax.add_artist(vetor_angulo)\n",
        "\n",
        "ax.annotate('Seno: {:.2f}'.format(seno), xy=(math.cos(angulo_radianos), seno), xytext=(math.cos(angulo_radianos) + 0.2, seno))\n",
        "ax.annotate('Cosseno: {:.2f}'.format(cosseno), xy=(cosseno, math.sin(angulo_radianos)), xytext=(cosseno, math.sin(angulo_radianos) + 0.2))\n",
        "ax.annotate('Tangente: {:.2f}'.format(tangente), xy=(1, tangente), xytext=(1.1, tangente))\n",
        "\n",
        "plt.title('Círculo trigonométrico')\n",
        "plt.xlim(-1.2, 1.2)\n",
        "plt.ylim(-1.2, 1.2)\n",
        "\n",
        "\n",
        "plt.show()"
      ],
      "metadata": {
        "id": "YAdLkgp4o1zg"
      },
      "execution_count": null,
      "outputs": []
    },
    {
      "cell_type": "code",
      "source": [
        "#Exercício 4\n",
        "n = 0\n",
        "\n",
        "n = int(input(\"Insira um numero de n: \"))\n",
        "\n",
        "angles = np.linspace(0, 2*np.pi*n, 1000)\n",
        "\n",
        "sin_values = np.sin(angles)\n",
        "cos_values = np.cos(angles)\n",
        "tan_values = np.tan(angles)\n",
        "\n",
        "fig, (ax1, ax2, ax3) = plt.subplots(3, 1, sharex=True)\n",
        "\n",
        "ax1.plot(angles, sin_values)\n",
        "ax1.set_ylabel('Seno')\n",
        "\n",
        "ax2.plot(angles, cos_values)\n",
        "ax2.set_ylabel('Cosseno')\n",
        "\n",
        "ax3.plot(angles, tan_values)\n",
        "ax3.set_ylabel('Tangente')\n",
        "ax3.set_xlabel('Ângulo')\n",
        "\n",
        "plt.show()"
      ],
      "metadata": {
        "id": "k18_NDntCNPT"
      },
      "execution_count": null,
      "outputs": []
    }
  ]
}